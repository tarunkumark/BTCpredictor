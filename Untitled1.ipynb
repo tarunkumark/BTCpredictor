{
 "cells": [
  {
   "cell_type": "code",
   "execution_count": 23,
   "id": "wanted-editor",
   "metadata": {},
   "outputs": [],
   "source": [
    "import numpy as np\n",
    "import matplotlib as plt\n",
    "import pandas as pd\n",
    "import statsmodels.api as sm"
   ]
  },
  {
   "cell_type": "code",
   "execution_count": 24,
   "id": "genetic-third",
   "metadata": {},
   "outputs": [
    {
     "data": {
      "text/plain": [
       "Date               int64\n",
       "Closing Price    float64\n",
       "dtype: object"
      ]
     },
     "execution_count": 24,
     "metadata": {},
     "output_type": "execute_result"
    }
   ],
   "source": [
    "data = pd.read_csv('Dataset_2.csv')\n",
    "data['Date']=pd.to_datetime(data['Date']).astype(np.int64)\n",
    "data.dtypes\n"
   ]
  },
  {
   "cell_type": "code",
   "execution_count": 25,
   "id": "toxic-cutting",
   "metadata": {},
   "outputs": [],
   "source": [
    "x=data['Date'].tolist()\n",
    "y=data['Closing Price'].tolist()\n"
   ]
  },
  {
   "cell_type": "code",
   "execution_count": 28,
   "id": "beneficial-dialogue",
   "metadata": {},
   "outputs": [
    {
     "name": "stdout",
     "output_type": "stream",
     "text": [
      "[1.00757065e-14]\n"
     ]
    }
   ],
   "source": [
    "model = sm.OLS(y,x).fit()\n",
    "\n"
   ]
  },
  {
   "cell_type": "code",
   "execution_count": 29,
   "id": "responsible-driver",
   "metadata": {},
   "outputs": [
    {
     "data": {
      "text/plain": [
       "array([16268.67099572])"
      ]
     },
     "execution_count": 29,
     "metadata": {},
     "output_type": "execute_result"
    }
   ],
   "source": [
    "model.predict(pd.Timestamp('2021.03.02').value)"
   ]
  },
  {
   "cell_type": "code",
   "execution_count": null,
   "id": "piano-agriculture",
   "metadata": {},
   "outputs": [],
   "source": []
  }
 ],
 "metadata": {
  "kernelspec": {
   "display_name": "Python 3",
   "language": "python",
   "name": "python3"
  },
  "language_info": {
   "codemirror_mode": {
    "name": "ipython",
    "version": 3
   },
   "file_extension": ".py",
   "mimetype": "text/x-python",
   "name": "python",
   "nbconvert_exporter": "python",
   "pygments_lexer": "ipython3",
   "version": "3.6.12"
  }
 },
 "nbformat": 4,
 "nbformat_minor": 5
}
